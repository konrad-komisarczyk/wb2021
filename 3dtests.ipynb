{
 "cells": [
  {
   "cell_type": "code",
   "execution_count": 24,
   "metadata": {},
   "outputs": [],
   "source": [
    "%matplotlib notebook\n",
    "import matplotlib \n",
    "import numpy as np\n",
    "from matplotlib import pyplot as plt\n",
    "import pandas as pd\n",
    "import random\n",
    "import plotly.express as px"
   ]
  },
  {
   "cell_type": "markdown",
   "metadata": {},
   "source": [
    "### Reading data"
   ]
  },
  {
   "cell_type": "code",
   "execution_count": 25,
   "metadata": {},
   "outputs": [],
   "source": [
    "Tongji_375_data = pd.read_csv(\"data/Tongji_375_CN.csv\")\n",
    "Tongji_110_data = pd.read_csv(\"data/Tongji_110_CN.csv\")\n",
    "St_Antonius_data = pd.read_csv(\"data/St_Antonius_NL.csv\")\n",
    "Outcomerea_FR_data = pd.read_csv(\"data/Outcomerea_FR.csv\")\n",
    "Northwell_US_data = pd.read_csv(\"data/Northwell_US.csv\")\n",
    "clustered_Tongji_375 = pd.read_csv(\"data/kmeans_tongji375.csv\")\n",
    "clustered_log1p_Tongji_375 = pd.read_csv(\"data/kmeans_log1p_tongji_375.csv\")"
   ]
  },
  {
   "cell_type": "code",
   "execution_count": 26,
   "metadata": {},
   "outputs": [],
   "source": [
    "Northwell_US_data = Northwell_US_data.loc[random.sample(range(0,1038), 300),:]"
   ]
  },
  {
   "cell_type": "code",
   "execution_count": 27,
   "metadata": {},
   "outputs": [],
   "source": [
    "Tongji_375_data['type'] = [\"Tongji_375\"] * Tongji_375_data.shape[0]\n",
    "Tongji_110_data['type'] = [\"Tongji_110\"] * Tongji_110_data.shape[0]\n",
    "St_Antonius_data['type'] = [\"St_Antonius\"] * St_Antonius_data.shape[0]\n",
    "Outcomerea_FR_data['type'] = [\"Outcomerea_FR\"] * Outcomerea_FR_data.shape[0]\n",
    "Northwell_US_data['type'] = [\"Northwell_US\"] * Northwell_US_data.shape[0]"
   ]
  },
  {
   "cell_type": "code",
   "execution_count": 28,
   "metadata": {},
   "outputs": [],
   "source": [
    "combined_data_with_NU = pd.concat([Tongji_375_data, Tongji_110_data,\n",
    "                           St_Antonius_data, Outcomerea_FR_data,\n",
    "                           Northwell_US_data]).reset_index()"
   ]
  },
  {
   "cell_type": "markdown",
   "metadata": {},
   "source": [
    "### Log transforming"
   ]
  },
  {
   "cell_type": "code",
   "execution_count": 29,
   "metadata": {},
   "outputs": [],
   "source": [
    "combined_data_with_NU['LDH_last'] = np.log1p(combined_data_with_NU['LDH_last'])\n",
    "combined_data_with_NU['hsCRP_last'] = np.log1p(combined_data_with_NU['hsCRP_last'])\n",
    "combined_data_with_NU['lymphocytes_last'] = np.log1p(combined_data_with_NU['lymphocytes_last'])\n",
    "combined_data_with_NU['died'] = np.where(combined_data_with_NU['outcome'] == 1, 'died', 'survived')"
   ]
  },
  {
   "cell_type": "code",
   "execution_count": 30,
   "metadata": {},
   "outputs": [],
   "source": [
    "combined_data = combined_data_with_NU[combined_data_with_NU['type'] != \"Northwell_US\" ].reset_index()"
   ]
  },
  {
   "cell_type": "code",
   "execution_count": 31,
   "metadata": {},
   "outputs": [],
   "source": [
    "clustered_log1p_Tongji_375['LDH_last'] = clustered_log1p_Tongji_375['LDH']\n",
    "clustered_log1p_Tongji_375['hsCRP_last'] = clustered_log1p_Tongji_375['hsCRP']\n",
    "clustered_log1p_Tongji_375['lymphocytes_last'] = clustered_log1p_Tongji_375['lymph']\n",
    "clustered_log1p_Tongji_375[\"Cluster\"] = clustered_log1p_Tongji_375.cluster.apply(lambda x: \"Cluster 1\" if x == 1 else \"Cluster 2\")\n",
    "clustered_log1p_Tongji_375[\"Outcome\"] = clustered_log1p_Tongji_375.outcome.apply(lambda x: \"Died\" if x == 1 else \"Survived\")"
   ]
  },
  {
   "cell_type": "markdown",
   "metadata": {
    "tags": []
   },
   "source": [
    "### Drawing plots"
   ]
  },
  {
   "cell_type": "code",
   "execution_count": 32,
   "metadata": {},
   "outputs": [],
   "source": [
    "# scatter raw\n",
    "fig = px.scatter_3d(combined_data,\n",
    "    x = 'LDH_last', \n",
    "                   y = 'hsCRP_last', z = 'lymphocytes_last', \n",
    "                    color = 'type', \n",
    "                    symbol = 'outcome',\n",
    "                 title = \"Scatterplot of features for each hospital\")\n",
    "fig.write_html(\"3D_plots/3d_plot_hospitals.html\")"
   ]
  },
  {
   "cell_type": "code",
   "execution_count": 33,
   "metadata": {},
   "outputs": [],
   "source": [
    "# scatter with northwell\n",
    "fig_NU = px.scatter_3d(combined_data_with_NU,\n",
    "    x = 'LDH_last', y = 'hsCRP_last', z = 'lymphocytes_last', color = 'type', symbol = 'died',\n",
    "                 title = \"Scatterplot of features for each hospital (with Northwell US)\")\n",
    "fig_NU.write_html(\"3D_plots/3d_plot_hospitals_with_NU.html\")"
   ]
  },
  {
   "cell_type": "code",
   "execution_count": 34,
   "metadata": {},
   "outputs": [],
   "source": [
    "# scatter with tongji cluster\n",
    "fig_cluster =  px.scatter_3d(clustered_log1p_Tongji_375, x = 'LDH_last', \n",
    "                    y = 'hsCRP_last', z = 'lymphocytes_last', symbol = 'Outcome', color = 'Cluster',\n",
    "                     title = \"Clusterization results for Tongji hospital\")\n",
    "fig_cluster.write_html(\"3D_plots/3d_plot_clusters.html\")"
   ]
  },
  {
   "cell_type": "code",
   "execution_count": null,
   "metadata": {},
   "outputs": [],
   "source": []
  }
 ],
 "metadata": {
  "kernelspec": {
   "display_name": "Python 3",
   "language": "python",
   "name": "python3"
  },
  "language_info": {
   "codemirror_mode": {
    "name": "ipython",
    "version": 3
   },
   "file_extension": ".py",
   "mimetype": "text/x-python",
   "name": "python",
   "nbconvert_exporter": "python",
   "pygments_lexer": "ipython3",
   "version": "3.8.5"
  }
 },
 "nbformat": 4,
 "nbformat_minor": 4
}
