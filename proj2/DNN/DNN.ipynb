{
  "nbformat": 4,
  "nbformat_minor": 0,
  "metadata": {
    "colab": {
      "name": "DNN.ipynb",
      "provenance": [],
      "collapsed_sections": []
    },
    "kernelspec": {
      "name": "python3",
      "display_name": "Python 3"
    },
    "language_info": {
      "name": "python"
    }
  },
  "cells": [
    {
      "cell_type": "code",
      "metadata": {
        "id": "aAFR_pMmlPAJ"
      },
      "source": [
        "import pandas as pd\n",
        "\n",
        "from tensorflow.keras import Sequential\n",
        "from tensorflow.keras.layers import Dense\n",
        "\n",
        "from sklearn.metrics import roc_auc_score"
      ],
      "execution_count": null,
      "outputs": []
    },
    {
      "cell_type": "code",
      "metadata": {
        "id": "dgJvcbY0mKkz"
      },
      "source": [
        "icu = pd.read_csv(\"data/icu_data.csv\").iloc[:, 1:]\n",
        "expired = pd.read_csv(\"data/expired_data.csv\").iloc[:, 1:]"
      ],
      "execution_count": null,
      "outputs": []
    },
    {
      "cell_type": "code",
      "metadata": {
        "id": "sNpXdn_Klh8-"
      },
      "source": [
        "icu_target = icu.iloc[:, -1]\n",
        "icu_data = icu.iloc[:, :-1]"
      ],
      "execution_count": null,
      "outputs": []
    },
    {
      "cell_type": "code",
      "metadata": {
        "id": "3FYnU7s2pk-Z"
      },
      "source": [
        "from sklearn.model_selection import train_test_split\n",
        "icu_data_train, icu_data_test, icu_target_train, icu_target_test, = train_test_split(icu_data, icu_target, test_size=0.1, shuffle=True, random_state=13123)"
      ],
      "execution_count": null,
      "outputs": []
    },
    {
      "cell_type": "code",
      "metadata": {
        "colab": {
          "base_uri": "https://localhost:8080/"
        },
        "id": "W49FiNI6llJc",
        "outputId": "3f569acd-f893-48ad-f449-a87b9219b21b"
      },
      "source": [
        "# The DNN model used five hidden layers with 6, 8, 16, 8, 4 neurons respectively.\n",
        "def make_model():\n",
        "  model = Sequential()\n",
        "  model.add(Dense(6, activation=\"relu\", input_shape=(5,), kernel_initializer=\"he_normal\", kernel_regularizer=\"l2\"))\n",
        "  model.add(Dense(8, activation=\"relu\", kernel_initializer=\"he_normal\", kernel_regularizer=\"l2\"))\n",
        "  model.add(Dense(16, activation=\"relu\", kernel_initializer=\"he_normal\", kernel_regularizer=\"l2\"))\n",
        "  model.add(Dense(8, activation=\"relu\", kernel_initializer=\"he_normal\", kernel_regularizer=\"l2\"))\n",
        "  model.add(Dense(4, activation=\"relu\", kernel_initializer=\"he_normal\", kernel_regularizer=\"l2\"))\n",
        "  # [...] the sigmoid activation function for the output layer, and the “he_normal” normalization scheme were applied.\n",
        "  model.add(Dense(1, activation=\"sigmoid\", kernel_initializer=\"he_normal\", kernel_regularizer=\"l2\"))\n",
        "  model.compile(optimizer=\"adam\", loss=\"mean_squared_error\", metrics=[\"accuracy\"])\n",
        "  return model\n",
        "icu = make_model()\n",
        "icu.fit(icu_data_train, icu_target_train, epochs=100, validation_split=0.2, verbose=0)\n",
        "roc_auc_score(icu_target_test, icu.predict(icu_data_test)[:, 0])"
      ],
      "execution_count": null,
      "outputs": [
        {
          "output_type": "execute_result",
          "data": {
            "text/plain": [
              "0.7111992945326279"
            ]
          },
          "metadata": {
            "tags": []
          },
          "execution_count": 126
        }
      ]
    },
    {
      "cell_type": "code",
      "metadata": {
        "id": "mlYQDFYnuwKX"
      },
      "source": [
        "aucs = []\n",
        "for i in range(1, 26):\n",
        "  print(f\"Training model #{i}\")\n",
        "  m = make_model()\n",
        "  tf.random.set_seed(i)\n",
        "  m.compile(optimizer=\"adam\", loss=\"mean_squared_error\", metrics=[\"accuracy\"])\n",
        "  m.fit(icu_data_train, icu_target_train, epochs=100, validation_split=0.2, verbose=0)\n",
        "  roc = roc_auc_score(icu_target_test, m.predict(icu_data_test)[:, 0])\n",
        "  print(f\"ROC AUC: {roc}\")\n",
        "  aucs.append(roc)"
      ],
      "execution_count": null,
      "outputs": []
    },
    {
      "cell_type": "code",
      "metadata": {
        "colab": {
          "base_uri": "https://localhost:8080/",
          "height": 265
        },
        "id": "spGbSpIK5bEk",
        "outputId": "c6dff01c-7438-4458-a75e-0173333c6b4a"
      },
      "source": [
        "import matplotlib.pyplot as plt\n",
        "import seaborn as sns\n",
        "\n",
        "sns.boxplot(data=aucs)\n",
        "plt.show()"
      ],
      "execution_count": null,
      "outputs": [
        {
          "output_type": "display_data",
          "data": {
            "image/png": "[encoded data removed]",
            "text/plain": [
              "<Figure size 432x288 with 1 Axes>"
            ]
          },
          "metadata": {
            "tags": [],
            "needs_background": "light"
          }
        }
      ]
    }
  ]
}