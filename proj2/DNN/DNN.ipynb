{
  "nbformat": 4,
  "nbformat_minor": 0,
  "metadata": {
    "colab": {
      "name": "DNN.ipynb",
      "provenance": [],
      "collapsed_sections": [],
      "toc_visible": true
    },
    "kernelspec": {
      "name": "python3",
      "display_name": "Python 3"
    },
    "language_info": {
      "name": "python"
    }
  },
  "cells": [
    {
      "cell_type": "markdown",
      "metadata": {
        "id": "mb2Z8DU_vOPV"
      },
      "source": [
        "# Data prep"
      ]
    },
    {
      "cell_type": "code",
      "metadata": {
        "id": "aAFR_pMmlPAJ"
      },
      "source": [
        "import pandas as pd\n",
        "\n",
        "from sklearn.preprocessing import RobustScaler\n",
        "\n",
        "from tensorflow.keras import Sequential\n",
        "from tensorflow.keras.layers import Dense\n",
        "\n",
        "from sklearn.metrics import roc_auc_score\n",
        "\n",
        "import matplotlib.pyplot as plt\n",
        "import seaborn as sns"
      ],
      "execution_count": 1,
      "outputs": []
    },
    {
      "cell_type": "code",
      "metadata": {
        "id": "dgJvcbY0mKkz"
      },
      "source": [
        "expired = pd.read_csv(\"data/expired_data.csv\").iloc[:, 1:]\n",
        "death_target = expired.iloc[:, -1]\n",
        "death_data = expired.iloc[:, :-1]\n",
        "\n",
        "expired_scaler = RobustScaler()\n",
        "\n",
        "death_data = expired_scaler.fit_transform(death_data)"
      ],
      "execution_count": 2,
      "outputs": []
    },
    {
      "cell_type": "code",
      "metadata": {
        "id": "H2vU-O0L-n2e"
      },
      "source": [
        "icu = pd.read_csv(\"data/icu_data.csv\").iloc[:, 1:]\n",
        "icu_target = icu.iloc[:, -1]\n",
        "icu_data = icu.iloc[:, :-1]\n",
        "\n",
        "icu_scaler = RobustScaler()\n",
        "\n",
        "icu_data = icu_scaler.fit_transform(icu_data)"
      ],
      "execution_count": 3,
      "outputs": []
    },
    {
      "cell_type": "code",
      "metadata": {
        "id": "3FYnU7s2pk-Z"
      },
      "source": [
        "def split_and_pack(X, y, name=None):\n",
        "  from sklearn.model_selection import train_test_split\n",
        "\n",
        "  sets = train_test_split(X, y, test_size=0.1, shuffle=True, random_state=13123)\n",
        "  return {\n",
        "      \"name\":name,\n",
        "      \"X_train\": sets[0],\n",
        "      \"X_test\": sets[1],\n",
        "      \"y_train\": sets[2],\n",
        "      \"y_test\": sets[3]\n",
        "  }\n",
        "\n",
        "ICU_PACK = split_and_pack(icu_data, icu_target)\n",
        "EXPIRED_PACK = split_and_pack(death_data, death_target)"
      ],
      "execution_count": 4,
      "outputs": []
    },
    {
      "cell_type": "markdown",
      "metadata": {
        "id": "2HfXJa4DvUX-"
      },
      "source": [
        "# ICU Models "
      ]
    },
    {
      "cell_type": "code",
      "metadata": {
        "id": "2pT-U392VQiw"
      },
      "source": [
        "def make_article_layer(neurons, **kwargs):\n",
        "  return Dense(neurons, activation=\"relu\", kernel_initializer=\"he_normal\", kernel_regularizer=\"l2\", **kwargs)\n",
        "\n",
        "def make_article_model(loss=\"mean_squared_error\", input_shape=(5,)):\n",
        "  # The DNN model used five hidden layers with 6, 8, 16, 8, 4 neurons respectively.\n",
        "  model = Sequential()\n",
        "  model.add(make_article_layer(6, input_shape=input_shape))\n",
        "  model.add(make_article_layer(8))\n",
        "  model.add(make_article_layer(16))\n",
        "  model.add(make_article_layer(8))\n",
        "  model.add(make_article_layer(4))\n",
        "  # [...] the sigmoid activation function for the output layer, and the “he_normal” normalization scheme were applied. \n",
        "  model.add(Dense(1, activation=\"sigmoid\", kernel_initializer=\"he_normal\", kernel_regularizer=\"l2\"))\n",
        "  model.compile(optimizer=\"adam\", loss=loss, metrics=[\"accuracy\"])\n",
        "  return model"
      ],
      "execution_count": 5,
      "outputs": []
    },
    {
      "cell_type": "code",
      "metadata": {
        "colab": {
          "base_uri": "https://localhost:8080/"
        },
        "id": "W49FiNI6llJc",
        "outputId": "e7597e90-3811-4d53-e906-4ba3577106ed"
      },
      "source": [
        "icu_article = make_article_model()\n",
        "icu_article.fit(ICU_PACK[\"X_train\"], ICU_PACK[\"y_train\"], epochs=100, validation_split=0.2, verbose=0)\n",
        "roc_auc_score(ICU_PACK[\"y_test\"], icu_article.predict(ICU_PACK[\"X_test\"])[:, 0])"
      ],
      "execution_count": 9,
      "outputs": [
        {
          "output_type": "execute_result",
          "data": {
            "text/plain": [
              "0.7182539682539681"
            ]
          },
          "metadata": {
            "tags": []
          },
          "execution_count": 9
        }
      ]
    },
    {
      "cell_type": "code",
      "metadata": {
        "id": "vl_vlylkRYPc"
      },
      "source": [
        "icu_article.save(\"icu_article.h5\")"
      ],
      "execution_count": 10,
      "outputs": []
    },
    {
      "cell_type": "code",
      "metadata": {
        "id": "doclH4hpluhg"
      },
      "source": [
        "def plot_roc_keras(model, PACK, model_name=\"?\"):\n",
        "  from sklearn.metrics import roc_curve, RocCurveDisplay\n",
        "  \n",
        "  y_pred_keras = model.predict(PACK[\"X_test\"]).ravel()\n",
        "  fpr_keras, tpr_keras, thresholds_keras = roc_curve(PACK[\"y_test\"], y_pred_keras)\n",
        "  plt.plot(fpr_keras, tpr_keras)\n",
        "  plt.plot([0,1], [0,1], \"r--\")\n",
        "  plt.xlabel(\"FPR\")\n",
        "  plt.ylabel(\"TPR\")\n",
        "  plt.title(\"ROC Curve for \" + model_name)"
      ],
      "execution_count": null,
      "outputs": []
    },
    {
      "cell_type": "code",
      "metadata": {
        "colab": {
          "base_uri": "https://localhost:8080/",
          "height": 458
        },
        "id": "Zq8DB0sOAp5K",
        "outputId": "385aab68-8859-4276-ac61-9fc3d0e2c380"
      },
      "source": [
        "plt.figure(figsize=(7, 7))\n",
        "plot_roc_keras(icu_article, ICU_PACK, model_name=\"ICU article model\")"
      ],
      "execution_count": null,
      "outputs": [
        {
          "output_type": "display_data",
          "data": {
            "image/png": "[encoded data removed]",
            "text/plain": [
              "<Figure size 504x504 with 1 Axes>"
            ]
          },
          "metadata": {
            "tags": [],
            "needs_background": "light"
          }
        }
      ]
    },
    {
      "cell_type": "code",
      "metadata": {
        "id": "mlYQDFYnuwKX",
        "colab": {
          "base_uri": "https://localhost:8080/"
        },
        "outputId": "ac574ce4-ed41-424e-c719-67df2071ef63"
      },
      "source": [
        "def test_stability(model_constructor, pack, count=25, verbose=False, scorer=roc_auc_score):\n",
        "  aucs = []\n",
        "\n",
        "  for i in range(1, count + 1):\n",
        "    if verbose:\n",
        "      print(f\"Training model #{i}\")\n",
        "\n",
        "    m = model_constructor()\n",
        "    m.fit(pack[\"X_train\"], pack[\"y_train\"], epochs=100, validation_split=0.2, verbose=0)\n",
        "    roc = roc_auc_score(pack[\"y_test\"], m.predict(pack[\"X_test\"])[:, 0])\n",
        "    if verbose:\n",
        "      print(f\"ROC AUC: {roc}\")\n",
        "    \n",
        "    aucs.append(roc)\n",
        "  return aucs\n",
        "ICU_ROCS = test_stability(make_article_model, ICU_PACK, count=5, verbose=True)"
      ],
      "execution_count": null,
      "outputs": [
        {
          "output_type": "stream",
          "text": [
            "Training model #1\n",
            "ROC AUC: 0.7059082892416225\n",
            "Training model #2\n",
            "ROC AUC: 0.7123015873015873\n",
            "Training model #3\n",
            "ROC AUC: 0.7235449735449736\n",
            "Training model #4\n",
            "ROC AUC: 0.419973544973545\n",
            "Training model #5\n",
            "ROC AUC: 0.6979717813051145\n"
          ],
          "name": "stdout"
        }
      ]
    },
    {
      "cell_type": "code",
      "metadata": {
        "id": "Dz3J_DjGrvm5"
      },
      "source": [
        "ARTICLE_ICU_AUCS_25 = test_stability(make_article_model, ICU_PACK)"
      ],
      "execution_count": null,
      "outputs": []
    },
    {
      "cell_type": "code",
      "metadata": {
        "colab": {
          "base_uri": "https://localhost:8080/",
          "height": 336
        },
        "id": "spGbSpIK5bEk",
        "outputId": "a591be8e-c19e-49b6-c12c-cfad8adc88bb"
      },
      "source": [
        "plt.figure(figsize=(5,5))\n",
        "sns.boxplot(data=ARTICLE_ICU_AUCS_25)\n",
        "plt.ylabel(\"ROC AUC score\")\n",
        "plt.title(\"Boxplot of AUC values for 25 models\")\n",
        "plt.show()"
      ],
      "execution_count": null,
      "outputs": [
        {
          "output_type": "display_data",
          "data": {
            "image/png": "[encoded data removed]",
            "text/plain": [
              "<Figure size 360x360 with 1 Axes>"
            ]
          },
          "metadata": {
            "tags": [],
            "needs_background": "light"
          }
        }
      ]
    },
    {
      "cell_type": "markdown",
      "metadata": {
        "id": "0PStsN1uvZHm"
      },
      "source": [
        "# Modified ICU models"
      ]
    },
    {
      "cell_type": "code",
      "metadata": {
        "id": "NEnLcNgeWXge"
      },
      "source": [
        "def make_wider(input_shape=(5,)):\n",
        "  wider = Sequential()\n",
        "  wider.add(Dense(32, activation=\"relu\", input_shape=input_shape))\n",
        "  wider.add(Dense(32, activation=\"relu\"))\n",
        "  wider.add(Dense(1, activation=\"sigmoid\"))\n",
        "  wider.compile(optimizer=\"adam\", loss=\"binary_crossentropy\", metrics=[\"accuracy\"])\n",
        "  return wider"
      ],
      "execution_count": 11,
      "outputs": []
    },
    {
      "cell_type": "code",
      "metadata": {
        "colab": {
          "base_uri": "https://localhost:8080/"
        },
        "id": "cd9-9_slD4qC",
        "outputId": "fff67508-852b-4554-d771-054ff62b0b7e"
      },
      "source": [
        "oicu = make_wider()\n",
        "oicu.fit(ICU_PACK[\"X_train\"], ICU_PACK[\"y_train\"], epochs=100, validation_split=0.2, verbose=0)\n",
        "roc_auc_score(ICU_PACK[\"y_test\"], oicu.predict(ICU_PACK[\"X_test\"])[:, 0])"
      ],
      "execution_count": 12,
      "outputs": [
        {
          "output_type": "execute_result",
          "data": {
            "text/plain": [
              "0.7191358024691357"
            ]
          },
          "metadata": {
            "tags": []
          },
          "execution_count": 12
        }
      ]
    },
    {
      "cell_type": "code",
      "metadata": {
        "id": "6RVnMzOPR2Q-"
      },
      "source": [
        "oicu.save(\"icu_basic.h5\")"
      ],
      "execution_count": 13,
      "outputs": []
    },
    {
      "cell_type": "code",
      "metadata": {
        "id": "Kdg2AatGH40I",
        "colab": {
          "base_uri": "https://localhost:8080/"
        },
        "outputId": "d59e3f75-a5fb-4105-8baa-3869677d2ada"
      },
      "source": [
        "article_ce_model = make_article_model(loss=\"binary_crossentropy\")\n",
        "article_ce_model.fit(ICU_PACK[\"X_train\"], ICU_PACK[\"y_train\"], epochs=100, validation_split=0.2, verbose=0)\n",
        "roc_auc_score(ICU_PACK[\"y_test\"], article_ce_model.predict(ICU_PACK[\"X_test\"])[:, 0])"
      ],
      "execution_count": 14,
      "outputs": [
        {
          "output_type": "execute_result",
          "data": {
            "text/plain": [
              "0.7266313932980599"
            ]
          },
          "metadata": {
            "tags": []
          },
          "execution_count": 14
        }
      ]
    },
    {
      "cell_type": "code",
      "metadata": {
        "id": "wpFs8G6zR-pU"
      },
      "source": [
        "article_ce_model.save(\"icu_article_ce.h5\")"
      ],
      "execution_count": 15,
      "outputs": []
    },
    {
      "cell_type": "code",
      "metadata": {
        "colab": {
          "base_uri": "https://localhost:8080/",
          "height": 458
        },
        "id": "unAG_OXrlzyS",
        "outputId": "c90dc280-c87a-4390-dc28-c97a1c0dcf32"
      },
      "source": [
        "plt.figure(figsize=(7,7))\n",
        "plot_roc_keras(article_ce_model, ICU_PACK, model_name=\"ICU article model with crossentropy loss\")"
      ],
      "execution_count": null,
      "outputs": [
        {
          "output_type": "display_data",
          "data": {
            "image/png": "[encoded data removed]",
            "text/plain": [
              "<Figure size 504x504 with 1 Axes>"
            ]
          },
          "metadata": {
            "tags": [],
            "needs_background": "light"
          }
        }
      ]
    },
    {
      "cell_type": "code",
      "metadata": {
        "id": "yY5G971AGNjt"
      },
      "source": [
        "NEW_ICU_AUCS = test_stability(make_wider)"
      ],
      "execution_count": null,
      "outputs": []
    },
    {
      "cell_type": "code",
      "metadata": {
        "id": "d65fLR7IJFHw"
      },
      "source": [
        "ARTICLE_BCE_ICU_AUCS = test_stability(lambda: make_article_model(loss=\"binary_crossentropy\"), ICU_PACK)"
      ],
      "execution_count": null,
      "outputs": []
    },
    {
      "cell_type": "code",
      "metadata": {
        "colab": {
          "base_uri": "https://localhost:8080/",
          "height": 279
        },
        "id": "j_u4v9qIGkVx",
        "outputId": "7e212f7c-7aaa-47bc-c63a-4e5313908d85"
      },
      "source": [
        "plot_df = pd.DataFrame({\n",
        "    \"article\": ARTICLE_ICU_AUCS_25,\n",
        "    \"basic\": NEW_ICU_AUCS,\n",
        "    \"article (crossentropy)\" : ARTICLE_BCE_ICU_AUCS\n",
        "}).melt(var_name=\"type\", value_name=\"ROC AUC score\")\n",
        "sns.boxplot(data=plot_df, x=\"type\", y=\"ROC AUC score\")\n",
        "plt.show()"
      ],
      "execution_count": null,
      "outputs": [
        {
          "output_type": "display_data",
          "data": {
            "image/png": "[encoded data removed]",
            "text/plain": [
              "<Figure size 432x288 with 1 Axes>"
            ]
          },
          "metadata": {
            "tags": [],
            "needs_background": "light"
          }
        }
      ]
    },
    {
      "cell_type": "markdown",
      "metadata": {
        "id": "qcTOOkqmUPwv"
      },
      "source": [
        "# Predicting death"
      ]
    },
    {
      "cell_type": "code",
      "metadata": {
        "colab": {
          "base_uri": "https://localhost:8080/"
        },
        "id": "k3QJUdHdUSSg",
        "outputId": "96527cb6-0b36-4bc8-d91a-08b4b5f4a224"
      },
      "source": [
        "article_d_model = make_article_model(input_shape=(6,))\n",
        "article_d_model.fit(EXPIRED_PACK[\"X_train\"], EXPIRED_PACK[\"y_train\"], epochs=100, validation_split=0.2, verbose=0)\n",
        "roc_auc_score(EXPIRED_PACK[\"y_test\"], article_d_model.predict(EXPIRED_PACK[\"X_test\"])[:, 0])"
      ],
      "execution_count": 16,
      "outputs": [
        {
          "output_type": "execute_result",
          "data": {
            "text/plain": [
              "0.8481518481518482"
            ]
          },
          "metadata": {
            "tags": []
          },
          "execution_count": 16
        }
      ]
    },
    {
      "cell_type": "code",
      "metadata": {
        "id": "OnIOhUIkSSIW"
      },
      "source": [
        "article_d_model.save(\"death_article.h5\")"
      ],
      "execution_count": 17,
      "outputs": []
    },
    {
      "cell_type": "code",
      "metadata": {
        "colab": {
          "base_uri": "https://localhost:8080/",
          "height": 458
        },
        "id": "rq6gyj81mrbN",
        "outputId": "89bbc8f4-5814-44b3-f392-877724d0dc8e"
      },
      "source": [
        "plt.figure(figsize=(7,7))\n",
        "plot_roc_keras(article_d_model, EXPIRED_PACK, model_name=\"Article death prediction model\")"
      ],
      "execution_count": null,
      "outputs": [
        {
          "output_type": "display_data",
          "data": {
            "image/png": "[encoded data removed]",
            "text/plain": [
              "<Figure size 504x504 with 1 Axes>"
            ]
          },
          "metadata": {
            "tags": [],
            "needs_background": "light"
          }
        }
      ]
    },
    {
      "cell_type": "code",
      "metadata": {
        "id": "avoVQAflUoJH"
      },
      "source": [
        "ARTICLE_EXPIRED_AUCS = test_stability(lambda: make_article_model(input_shape=(6,)), EXPIRED_PACK)"
      ],
      "execution_count": null,
      "outputs": []
    },
    {
      "cell_type": "code",
      "metadata": {
        "id": "iIclLBXZVxWt"
      },
      "source": [
        "BASIC_EXPIRED_AUCS = test_stability(lambda: make_wider(input_shape=(6,)), EXPIRED_PACK)"
      ],
      "execution_count": null,
      "outputs": []
    },
    {
      "cell_type": "code",
      "metadata": {
        "id": "QBPITd58WfH8"
      },
      "source": [
        "ARTICLE_BCE_EXPIRED_AUCS = test_stability(lambda: make_article_model(loss=\"binary_crossentropy\", input_shape=(6,)), EXPIRED_PACK)"
      ],
      "execution_count": null,
      "outputs": []
    },
    {
      "cell_type": "code",
      "metadata": {
        "colab": {
          "base_uri": "https://localhost:8080/",
          "height": 279
        },
        "id": "76BKvF-eW8RC",
        "outputId": "1aaaa0af-77ef-4e18-f6f3-9e1dbf1ed0db"
      },
      "source": [
        "plot_exp_df = pd.DataFrame({\n",
        "    \"article\": ARTICLE_EXPIRED_AUCS,\n",
        "    \"basic\": BASIC_EXPIRED_AUCS,\n",
        "    \"article (crossentropy)\" : ARTICLE_BCE_EXPIRED_AUCS\n",
        "}).melt(var_name=\"type\", value_name=\"ROC AUC score\")\n",
        "sns.boxplot(data=plot_exp_df, x=\"type\", y=\"ROC AUC score\")\n",
        "plt.show()"
      ],
      "execution_count": null,
      "outputs": [
        {
          "output_type": "display_data",
          "data": {
            "image/png": "[encoded data removed]",
            "text/plain": [
              "<Figure size 432x288 with 1 Axes>"
            ]
          },
          "metadata": {
            "tags": [],
            "needs_background": "light"
          }
        }
      ]
    },
    {
      "cell_type": "code",
      "metadata": {
        "id": "4JR4bphPXfSk"
      },
      "source": [
        ""
      ],
      "execution_count": null,
      "outputs": []
    }
  ]
}