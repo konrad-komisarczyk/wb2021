{
 "cells": [
  {
   "cell_type": "code",
   "execution_count": 2,
   "metadata": {},
   "outputs": [],
   "source": [
    "import xgboost\n",
    "import pandas as pd\n",
    "import numpy as np\n",
    "from sklearn.metrics import roc_auc_score"
   ]
  },
  {
   "cell_type": "code",
   "execution_count": 3,
   "metadata": {},
   "outputs": [
    {
     "data": {
      "text/plain": [
       "'/home/kacper/Repos/wb2021/proj2/DNN'"
      ]
     },
     "execution_count": 3,
     "metadata": {},
     "output_type": "execute_result"
    }
   ],
   "source": [
    "import os\n",
    "os.getcwd()"
   ]
  },
  {
   "cell_type": "markdown",
   "metadata": {},
   "source": [
    "## Expired"
   ]
  },
  {
   "cell_type": "code",
   "execution_count": 9,
   "metadata": {},
   "outputs": [],
   "source": [
    "train = pd.read_csv(\"../data/splitted/expired_train.csv\").iloc[:, 1:]\n",
    "test = pd.read_csv(\"../data/splitted/expired_test.csv\").iloc[:, 1:]\n",
    "\n",
    "X_train = np.array(train.iloc[:, :-1])\n",
    "y_train = np.array(train.iloc[:, -1])\n",
    "X_test = np.array(test.iloc[:, :-1])\n",
    "y_test = np.array(test.iloc[:, -1])\n",
    "\n",
    "\n",
    "dtrain = xgboost.DMatrix(data=X_train, label=y_train)\n",
    "dtest = xgboost.DMatrix(X_test, y_test)"
   ]
  },
  {
   "cell_type": "code",
   "execution_count": 18,
   "metadata": {},
   "outputs": [
    {
     "data": {
      "text/plain": [
       "dtype('float64')"
      ]
     },
     "execution_count": 18,
     "metadata": {},
     "output_type": "execute_result"
    }
   ],
   "source": [
    "X_train.dtype"
   ]
  },
  {
   "cell_type": "code",
   "execution_count": 13,
   "metadata": {},
   "outputs": [],
   "source": [
    "model = xgboost.XGBClassifier()\n",
    "model.load_model('../models/xgb_expired.model')"
   ]
  },
  {
   "cell_type": "code",
   "execution_count": 22,
   "metadata": {},
   "outputs": [],
   "source": [
    "y_proba_train = model.predict_proba(X_train)"
   ]
  },
  {
   "cell_type": "code",
   "execution_count": 23,
   "metadata": {},
   "outputs": [
    {
     "data": {
      "text/plain": [
       "array([[0.8369396 , 0.16306041],\n",
       "       [0.86944675, 0.13055326],\n",
       "       [0.86944675, 0.13055326],\n",
       "       ...,\n",
       "       [0.72578883, 0.2742112 ],\n",
       "       [0.804635  , 0.19536503],\n",
       "       [0.5592279 , 0.44077212]], dtype=float32)"
      ]
     },
     "execution_count": 23,
     "metadata": {},
     "output_type": "execute_result"
    }
   ],
   "source": [
    "y_proba_train"
   ]
  },
  {
   "cell_type": "code",
   "execution_count": 57,
   "metadata": {},
   "outputs": [
    {
     "data": {
      "text/plain": [
       "array([0.09217561, 0.        , 0.06589799, 0.11698132, 0.06775732,\n",
       "       0.07457641, 0.06515265, 0.08310493, 0.21270442, 0.06817831,\n",
       "       0.15347105], dtype=float32)"
      ]
     },
     "execution_count": 57,
     "metadata": {},
     "output_type": "execute_result"
    }
   ],
   "source": [
    "# ale sam model ogólnie jakoś tam działa\n",
    "model.feature_importances_"
   ]
  }
 ],
 "metadata": {
  "kernelspec": {
   "display_name": "Python 3",
   "language": "python",
   "name": "python3"
  },
  "language_info": {
   "codemirror_mode": {
    "name": "ipython",
    "version": 3
   },
   "file_extension": ".py",
   "mimetype": "text/x-python",
   "name": "python",
   "nbconvert_exporter": "python",
   "pygments_lexer": "ipython3",
   "version": "3.8.6"
  }
 },
 "nbformat": 4,
 "nbformat_minor": 4
}
