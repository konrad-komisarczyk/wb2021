{
 "cells": [
  {
   "cell_type": "code",
   "execution_count": 70,
   "metadata": {},
   "outputs": [],
   "source": [
    "import xgboost\n",
    "import pandas as pd\n",
    "import numpy as np\n",
    "from matplotlib import pyplot as plt\n",
    "from sklearn.metrics import roc_auc_score"
   ]
  },
  {
   "cell_type": "code",
   "execution_count": 71,
   "metadata": {},
   "outputs": [
    {
     "name": "stdout",
     "output_type": "stream",
     "text": [
      "Requirement already satisfied: xgboost==1.4.2 in c:\\users\\jakub\\anaconda3\\lib\\site-packages (1.4.2)\n",
      "Requirement already satisfied: scipy in c:\\users\\jakub\\anaconda3\\lib\\site-packages (from xgboost==1.4.2) (1.5.2)\n",
      "Requirement already satisfied: numpy in c:\\users\\jakub\\anaconda3\\lib\\site-packages (from xgboost==1.4.2) (1.19.2)\n"
     ]
    }
   ],
   "source": [
    "!pip install xgboost==1.4.2"
   ]
  },
  {
   "cell_type": "code",
   "execution_count": 72,
   "metadata": {},
   "outputs": [
    {
     "data": {
      "text/plain": [
       "'C:\\\\Users\\\\jakub\\\\Desktop\\\\WBproj\\\\proj2\\\\DNN'"
      ]
     },
     "execution_count": 72,
     "metadata": {},
     "output_type": "execute_result"
    }
   ],
   "source": [
    "import os\n",
    "os.getcwd()"
   ]
  },
  {
   "cell_type": "markdown",
   "metadata": {},
   "source": [
    "## Expired"
   ]
  },
  {
   "cell_type": "code",
   "execution_count": 73,
   "metadata": {},
   "outputs": [],
   "source": [
    "train_exp = pd.read_csv(\"../data/splitted/expired_train.csv\").iloc[:, 1:]\n",
    "test_exp = pd.read_csv(\"../data/splitted/expired_test.csv\").iloc[:, 1:]\n",
    "train_icu = pd.read_csv(\"../data/splitted/icu_train.csv\").iloc[:, 1:]\n",
    "test_icu = pd.read_csv(\"../data/splitted/icu_test.csv\").iloc[:, 1:]\n",
    "\n",
    "X_train_exp = np.array(train_exp.iloc[:, :-1])\n",
    "y_train_exp = np.array(train_exp.iloc[:, -1])\n",
    "X_test_exp = np.array(test_exp.iloc[:, :-1])\n",
    "y_test_exp = np.array(test_exp.iloc[:, -1])\n",
    "X_train_icu = np.array(train_icu.iloc[:, :-1])\n",
    "y_train_icu = np.array(train_icu.iloc[:, -1])\n",
    "X_test_icu = np.array(test_icu.iloc[:, :-1])\n",
    "y_test_icu = np.array(test_icu.iloc[:, -1])\n",
    "\n",
    "\n",
    "\n",
    "dtrain_exp = xgboost.DMatrix(data=X_train_exp, label=y_train_exp)\n",
    "dtest_exp = xgboost.DMatrix(X_test_exp, y_test_exp)\n",
    "dtrain_icu = xgboost.DMatrix(data=X_train_icu, label=y_train_icu)\n",
    "dtest_icu = xgboost.DMatrix(X_test_icu, y_test_icu)"
   ]
  },
  {
   "cell_type": "code",
   "execution_count": 74,
   "metadata": {},
   "outputs": [],
   "source": [
    "X_exp = np.concatenate((X_train_exp, X_test_exp), axis=0)\n",
    "X_icu = np.concatenate((X_train_icu, X_test_icu), axis=0)"
   ]
  },
  {
   "cell_type": "code",
   "execution_count": 75,
   "metadata": {},
   "outputs": [
    {
     "data": {
      "text/html": [
       "<div>\n",
       "<style scoped>\n",
       "    .dataframe tbody tr th:only-of-type {\n",
       "        vertical-align: middle;\n",
       "    }\n",
       "\n",
       "    .dataframe tbody tr th {\n",
       "        vertical-align: top;\n",
       "    }\n",
       "\n",
       "    .dataframe thead th {\n",
       "        text-align: right;\n",
       "    }\n",
       "</style>\n",
       "<table border=\"1\" class=\"dataframe\">\n",
       "  <thead>\n",
       "    <tr style=\"text-align: right;\">\n",
       "      <th></th>\n",
       "      <th>CRP</th>\n",
       "      <th>Ferritin</th>\n",
       "      <th>LDH</th>\n",
       "      <th>SpO2</th>\n",
       "      <th>Procalcitonin</th>\n",
       "      <th>ICU.or.not</th>\n",
       "    </tr>\n",
       "  </thead>\n",
       "  <tbody>\n",
       "    <tr>\n",
       "      <th>0</th>\n",
       "      <td>7.5</td>\n",
       "      <td>86.3</td>\n",
       "      <td>293</td>\n",
       "      <td>92</td>\n",
       "      <td>0.12</td>\n",
       "      <td>0</td>\n",
       "    </tr>\n",
       "    <tr>\n",
       "      <th>1</th>\n",
       "      <td>38.2</td>\n",
       "      <td>823.6</td>\n",
       "      <td>305</td>\n",
       "      <td>96</td>\n",
       "      <td>0.37</td>\n",
       "      <td>0</td>\n",
       "    </tr>\n",
       "    <tr>\n",
       "      <th>2</th>\n",
       "      <td>11.4</td>\n",
       "      <td>620.4</td>\n",
       "      <td>442</td>\n",
       "      <td>82</td>\n",
       "      <td>0.09</td>\n",
       "      <td>0</td>\n",
       "    </tr>\n",
       "    <tr>\n",
       "      <th>3</th>\n",
       "      <td>12.6</td>\n",
       "      <td>928.3</td>\n",
       "      <td>441</td>\n",
       "      <td>94</td>\n",
       "      <td>0.12</td>\n",
       "      <td>0</td>\n",
       "    </tr>\n",
       "    <tr>\n",
       "      <th>4</th>\n",
       "      <td>26.1</td>\n",
       "      <td>2016.0</td>\n",
       "      <td>701</td>\n",
       "      <td>75</td>\n",
       "      <td>6.80</td>\n",
       "      <td>0</td>\n",
       "    </tr>\n",
       "    <tr>\n",
       "      <th>...</th>\n",
       "      <td>...</td>\n",
       "      <td>...</td>\n",
       "      <td>...</td>\n",
       "      <td>...</td>\n",
       "      <td>...</td>\n",
       "      <td>...</td>\n",
       "    </tr>\n",
       "    <tr>\n",
       "      <th>824</th>\n",
       "      <td>0.7</td>\n",
       "      <td>22420.0</td>\n",
       "      <td>436</td>\n",
       "      <td>98</td>\n",
       "      <td>0.34</td>\n",
       "      <td>0</td>\n",
       "    </tr>\n",
       "    <tr>\n",
       "      <th>825</th>\n",
       "      <td>5.9</td>\n",
       "      <td>207.7</td>\n",
       "      <td>298</td>\n",
       "      <td>95</td>\n",
       "      <td>0.17</td>\n",
       "      <td>0</td>\n",
       "    </tr>\n",
       "    <tr>\n",
       "      <th>826</th>\n",
       "      <td>4.9</td>\n",
       "      <td>1391.0</td>\n",
       "      <td>336</td>\n",
       "      <td>95</td>\n",
       "      <td>0.26</td>\n",
       "      <td>0</td>\n",
       "    </tr>\n",
       "    <tr>\n",
       "      <th>827</th>\n",
       "      <td>4.9</td>\n",
       "      <td>2671.0</td>\n",
       "      <td>514</td>\n",
       "      <td>95</td>\n",
       "      <td>1.62</td>\n",
       "      <td>1</td>\n",
       "    </tr>\n",
       "    <tr>\n",
       "      <th>828</th>\n",
       "      <td>7.9</td>\n",
       "      <td>5860.0</td>\n",
       "      <td>705</td>\n",
       "      <td>98</td>\n",
       "      <td>0.18</td>\n",
       "      <td>1</td>\n",
       "    </tr>\n",
       "  </tbody>\n",
       "</table>\n",
       "<p>829 rows × 6 columns</p>\n",
       "</div>"
      ],
      "text/plain": [
       "      CRP  Ferritin  LDH  SpO2  Procalcitonin  ICU.or.not\n",
       "0     7.5      86.3  293    92           0.12           0\n",
       "1    38.2     823.6  305    96           0.37           0\n",
       "2    11.4     620.4  442    82           0.09           0\n",
       "3    12.6     928.3  441    94           0.12           0\n",
       "4    26.1    2016.0  701    75           6.80           0\n",
       "..    ...       ...  ...   ...            ...         ...\n",
       "824   0.7   22420.0  436    98           0.34           0\n",
       "825   5.9     207.7  298    95           0.17           0\n",
       "826   4.9    1391.0  336    95           0.26           0\n",
       "827   4.9    2671.0  514    95           1.62           1\n",
       "828   7.9    5860.0  705    98           0.18           1\n",
       "\n",
       "[829 rows x 6 columns]"
      ]
     },
     "execution_count": 75,
     "metadata": {},
     "output_type": "execute_result"
    }
   ],
   "source": [
    "train_icu"
   ]
  },
  {
   "cell_type": "code",
   "execution_count": null,
   "metadata": {},
   "outputs": [],
   "source": []
  },
  {
   "cell_type": "code",
   "execution_count": 76,
   "metadata": {},
   "outputs": [
    {
     "name": "stderr",
     "output_type": "stream",
     "text": [
      "Loading a native XGBoost model with Scikit-Learn interface.\n"
     ]
    }
   ],
   "source": [
    "xgb_expired = xgboost.XGBClassifier()\n",
    "xgb_expired.load_model('../models/xgb_expired.model')"
   ]
  },
  {
   "cell_type": "code",
   "execution_count": 77,
   "metadata": {},
   "outputs": [],
   "source": [
    "xgb_icu = xgboost.XGBClassifier()\n",
    "xgb_icu.load_model('../models/xgb_icu.model')"
   ]
  },
  {
   "cell_type": "code",
   "execution_count": 78,
   "metadata": {},
   "outputs": [],
   "source": [
    "y_proba_train_exp = xgb_expired.predict_proba(X_train_exp)"
   ]
  },
  {
   "cell_type": "code",
   "execution_count": 79,
   "metadata": {},
   "outputs": [
    {
     "data": {
      "text/plain": [
       "array([[0.8514868 , 0.14851323],\n",
       "       [0.90346086, 0.09653917],\n",
       "       [0.88114154, 0.11885844],\n",
       "       ...,\n",
       "       [0.8253146 , 0.17468542],\n",
       "       [0.8905813 , 0.10941868],\n",
       "       [0.64287114, 0.35712883]], dtype=float32)"
      ]
     },
     "execution_count": 79,
     "metadata": {},
     "output_type": "execute_result"
    }
   ],
   "source": [
    "y_proba_train_exp"
   ]
  },
  {
   "cell_type": "code",
   "execution_count": 80,
   "metadata": {},
   "outputs": [],
   "source": [
    "from sklearn.metrics import plot_roc_curve"
   ]
  },
  {
   "cell_type": "code",
   "execution_count": 81,
   "metadata": {},
   "outputs": [],
   "source": [
    "#roc_auc_score(y_test, model.predict_proba(X_test_exp)[:, 1])"
   ]
  },
  {
   "cell_type": "code",
   "execution_count": 82,
   "metadata": {},
   "outputs": [
    {
     "data": {
      "text/plain": [
       "array([0.14559734, 0.13670382, 0.20167316, 0.0932813 , 0.17583266,\n",
       "       0.24691175], dtype=float32)"
      ]
     },
     "execution_count": 82,
     "metadata": {},
     "output_type": "execute_result"
    }
   ],
   "source": [
    "xgb_expired.feature_importances_"
   ]
  },
  {
   "cell_type": "code",
   "execution_count": 83,
   "metadata": {},
   "outputs": [],
   "source": [
    "import shap"
   ]
  },
  {
   "cell_type": "code",
   "execution_count": 84,
   "metadata": {},
   "outputs": [],
   "source": [
    "explainer_exp = shap.TreeExplainer(xgb_expired, X_train_exp)"
   ]
  },
  {
   "cell_type": "code",
   "execution_count": 85,
   "metadata": {},
   "outputs": [],
   "source": [
    "explainer_icu = shap.TreeExplainer(xgb_icu, X_train_icu)"
   ]
  },
  {
   "cell_type": "code",
   "execution_count": 86,
   "metadata": {},
   "outputs": [],
   "source": [
    "shap_values_exp = explainer_exp(X_exp)\n",
    "shap_values_icu = explainer_icu(X_icu)"
   ]
  },
  {
   "cell_type": "code",
   "execution_count": 87,
   "metadata": {},
   "outputs": [
    {
     "data": {
      "text/plain": [
       "array([[7.500e+00, 8.630e+01, 2.930e+02, 9.200e+01, 1.200e-01],\n",
       "       [3.820e+01, 8.236e+02, 3.050e+02, 9.600e+01, 3.700e-01],\n",
       "       [1.140e+01, 6.204e+02, 4.420e+02, 8.200e+01, 9.000e-02],\n",
       "       ...,\n",
       "       [4.900e+00, 1.391e+03, 3.360e+02, 9.500e+01, 2.600e-01],\n",
       "       [4.900e+00, 2.671e+03, 5.140e+02, 9.500e+01, 1.620e+00],\n",
       "       [7.900e+00, 5.860e+03, 7.050e+02, 9.800e+01, 1.800e-01]])"
      ]
     },
     "execution_count": 87,
     "metadata": {},
     "output_type": "execute_result"
    }
   ],
   "source": [
    "X_train_icu"
   ]
  },
  {
   "cell_type": "code",
   "execution_count": 88,
   "metadata": {},
   "outputs": [
    {
     "data": {
      "text/plain": [
       "array([[6.40e+01, 1.81e+01, 4.63e+02, 9.30e+01, 3.20e-01, 1.00e-02],\n",
       "       [2.80e+01, 9.70e+00, 5.61e+02, 9.20e+01, 1.70e-01, 1.00e-02],\n",
       "       [5.70e+01, 1.26e+01, 2.92e+02, 9.00e+01, 3.00e-02, 1.00e-02],\n",
       "       ...,\n",
       "       [7.50e+01, 5.20e+00, 1.78e+02, 9.80e+01, 7.00e-02, 1.00e-02],\n",
       "       [7.10e+01, 6.00e-01, 1.81e+02, 9.60e+01, 8.00e-02, 1.00e-02],\n",
       "       [5.90e+01, 2.59e+01, 4.81e+02, 7.70e+01, 7.30e-01, 1.00e-02]])"
      ]
     },
     "execution_count": 88,
     "metadata": {},
     "output_type": "execute_result"
    }
   ],
   "source": [
    "X_train_exp"
   ]
  },
  {
   "cell_type": "code",
   "execution_count": 89,
   "metadata": {},
   "outputs": [
    {
     "data": {
      "text/plain": [
       "<Figure size 560x350 with 0 Axes>"
      ]
     },
     "metadata": {},
     "output_type": "display_data"
    },
    {
     "data": {
      "image/png": "[encoded data removed]",
      "text/plain": [
       "<Figure size 576x280.8 with 1 Axes>"
      ]
     },
     "metadata": {
      "needs_background": "light"
     },
     "output_type": "display_data"
    }
   ],
   "source": [
    "plt.figure(figsize=(8,5), dpi= 70)\n",
    "fig, ax = plt.subplots()\n",
    "plt.title(\"XGBoost model for mortality prediction task\")\n",
    "ax=shap.summary_plot(shap_values_exp, plot_type='bar', feature_names=train_exp.columns[:-1])\n",
    "plt.show()\n",
    "fig.savefig('xgboost_mortality_feature.png', bbox_inches='tight')"
   ]
  },
  {
   "cell_type": "code",
   "execution_count": 90,
   "metadata": {},
   "outputs": [
    {
     "data": {
      "text/plain": [
       "<Figure size 560x350 with 0 Axes>"
      ]
     },
     "metadata": {},
     "output_type": "display_data"
    },
    {
     "data": {
      "image/png": "[encoded data removed]",
      "text/plain": [
       "<Figure size 576x252 with 1 Axes>"
      ]
     },
     "metadata": {
      "needs_background": "light"
     },
     "output_type": "display_data"
    }
   ],
   "source": [
    "plt.figure(figsize=(8,5), dpi= 70)\n",
    "fig, ax = plt.subplots()\n",
    "plt.title(\"XGBoost model for ICU admission task\")\n",
    "ax=shap.summary_plot(shap_values_icu, plot_type='bar', feature_names=train_icu.columns[:-1])\n",
    "plt.show()\n",
    "fig.savefig('xgboost_icu_feature.png', bbox_inches='tight')"
   ]
  },
  {
   "cell_type": "code",
   "execution_count": null,
   "metadata": {},
   "outputs": [],
   "source": []
  }
 ],
 "metadata": {
  "kernelspec": {
   "display_name": "Python 3",
   "language": "python",
   "name": "python3"
  },
  "language_info": {
   "codemirror_mode": {
    "name": "ipython",
    "version": 3
   },
   "file_extension": ".py",
   "mimetype": "text/x-python",
   "name": "python",
   "nbconvert_exporter": "python",
   "pygments_lexer": "ipython3",
   "version": "3.8.5"
  }
 },
 "nbformat": 4,
 "nbformat_minor": 4
}
